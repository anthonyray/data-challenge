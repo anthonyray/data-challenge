{
 "metadata": {
  "name": "",
  "signature": "sha256:b7d3f72566ff4b6ba0e5e0b0b871054f70fc6b03ae3ac33c0f005d0db137f3dc"
 },
 "nbformat": 3,
 "nbformat_minor": 0,
 "worksheets": [
  {
   "cells": [
    {
     "cell_type": "markdown",
     "metadata": {},
     "source": [
      "# Features extraction\n",
      "\n",
      "## Temporal approach\n",
      "- Min\n",
      "- Max : *relevant*\n",
      "\n",
      "## Frequency approach\n",
      "- Skew\n",
      "- Kurtosis\n",
      "- Signal Energy\n",
      "- Auto Correlation\n",
      "- Frequency bands\n",
      "\n",
      "## DTW\n",
      "Scalability problem\n",
      "\n",
      "## Neural Nets\n",
      "\n",
      "## Wavelets"
     ]
    },
    {
     "cell_type": "markdown",
     "metadata": {},
     "source": [
      "Google searches : \n",
      "- feature extraction for time series classification\n"
     ]
    },
    {
     "cell_type": "code",
     "collapsed": false,
     "input": [],
     "language": "python",
     "metadata": {},
     "outputs": []
    }
   ],
   "metadata": {}
  }
 ]
}