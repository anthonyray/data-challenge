{
 "metadata": {
  "name": "",
  "signature": "sha256:1a5d6d59cf8aae21409bcfd3b6be4256a24bdc25b8638eac5cd0454d2e3ce6fe"
 },
 "nbformat": 3,
 "nbformat_minor": 0,
 "worksheets": [
  {
   "cells": [
    {
     "cell_type": "markdown",
     "metadata": {},
     "source": [
      "# Sampling\n",
      "\n",
      "- Train / Test splitting \n",
      "- Cross Validation\n",
      "\n",
      "# Features extraction\n",
      "\n",
      "## Temporal approach\n",
      "- Min\n",
      "- Max : *relevant*\n",
      "- percentile : 75 (not relevant : we have the max)\n",
      "- percentile : 20 (not relevant : we have the min)\n",
      "- Number of time a threshold is crossed\n",
      "- Ratio : highest peak / lowest peak\n",
      "\n",
      "## Frequency approach\n",
      "- Skew\n",
      "- Kurtosis\n",
      "- Signal Energy\n",
      "\n",
      "*\u00c0 refaire*\n",
      "- Auto Correlation\n",
      "- Frequency bands\n",
      "- percentiles : 75 \n",
      "- percentile : 20\n",
      "- std : NO (Parseval Theorem bitch)\n",
      "\n",
      "## DTW\n",
      "Scalability problem\n",
      "\n",
      "## Wavelets\n",
      "\n",
      "# Dimensionality reduction\n",
      "\n",
      "- PCA \n",
      "\n",
      "# Classification \n",
      "\n",
      "This is a supervised learning problem. \n",
      "\n",
      "- Neural Networks\n",
      "- KNN\n",
      "- Random Forests\n",
      "- SVM "
     ]
    },
    {
     "cell_type": "markdown",
     "metadata": {},
     "source": [
      "Google searches : \n",
      "- feature extraction for time series classification\n"
     ]
    },
    {
     "cell_type": "code",
     "collapsed": false,
     "input": [],
     "language": "python",
     "metadata": {},
     "outputs": []
    }
   ],
   "metadata": {}
  }
 ]
}