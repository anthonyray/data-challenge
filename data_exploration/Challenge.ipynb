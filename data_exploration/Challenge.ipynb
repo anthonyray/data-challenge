{
 "metadata": {
  "name": "",
  "signature": "sha256:a8f8f8812e097665c24d413cb8491e441ddc95241619d810e3b93549350ade3f"
 },
 "nbformat": 3,
 "nbformat_minor": 0,
 "worksheets": [
  {
   "cells": [
    {
     "cell_type": "markdown",
     "metadata": {},
     "source": [
      "# Sampling\n",
      "\n",
      "- Train / Test splitting \n",
      "- Cross Validation\n",
      "\n",
      "# Features extraction\n",
      "\n",
      "## Temporal approach\n",
      "- Min\n",
      "- Max : *relevant*\n",
      "- percentile : 75 (not relevant : we have the max)\n",
      "- percentile : 20 (not relevant : we have the min)\n",
      "- Number of time a threshold is crossed\n",
      "- Ratio : highest peak / lowest peak\n",
      "\n",
      "## Frequency approach\n",
      "- Filtering the signal : doesn't yield good results\n",
      "- Skew\n",
      "- Kurtosis\n",
      "- Signal Energy\n",
      "- Auto Correlation\n",
      "- Frequency bands\n",
      "- percentiles : 75 \n",
      "- percentile : 20\n",
      "- std : NO (Parseval Theorem bitch)\n",
      "\n",
      "## DTW\n",
      "Scalability problem\n",
      "\n",
      "## Wavelets\n",
      "\n",
      "# Dimensionality reduction\n",
      "\n",
      "- PCA \n",
      "\n",
      "# Classification \n",
      "\n",
      "This is a supervised learning problem. \n",
      "\n",
      "- Neural Networks\n",
      "- KNN\n",
      "- Random Forests\n",
      "- SVM "
     ]
    },
    {
     "cell_type": "markdown",
     "metadata": {},
     "source": [
      "Google searches : \n",
      "- feature extraction for time series classification\n"
     ]
    },
    {
     "cell_type": "code",
     "collapsed": false,
     "input": [],
     "language": "python",
     "metadata": {},
     "outputs": []
    }
   ],
   "metadata": {}
  }
 ]
}