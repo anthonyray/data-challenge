{
 "metadata": {
  "name": "",
  "signature": "sha256:430b87faf19afc3b6d5f354eea738e10c2ced75de1f840f1fe7f934e21881aa9"
 },
 "nbformat": 3,
 "nbformat_minor": 0,
 "worksheets": [
  {
   "cells": [
    {
     "cell_type": "markdown",
     "metadata": {},
     "source": [
      "La d\u00e9tection automatique des stades de sommeil bas\u00e9e sur l'analyse d'\u00e9lectroenc\u00e9phalogrammes (EEG) est tr\u00e8s importante pour les neurologues. Elle permet notamment le diagnostic de troubles du sommeil chez les patients, mais aussi de constater l'efficacit\u00e9 des traitements propos\u00e9s. \n",
      "\n",
      "Le but de ce challenge est de mettre en place un algorithme d'apprentissage statistique capable d'affecter des **enregistrements de 30 secondes d'EEG** \u00e0 des **phases de sommeil : N1, N2, N3, R, W (r\u00e9veill\u00e9)**. Chaque enregistrement est une **s\u00e9rie de 6000 points** qui enregistrent **p\u00e9riodiquement** la valeur de l'EEG. \n",
      "\n",
      "L'approche la plus basique qui consisterait  \u00e0 fournir aux algorithmes d'apprentissage les enregistrements tels quels ne semble pas viable : chaque enregistrement est repr\u00e9sent\u00e9 dans un espace de grande dimension (6000 en l'occurence), et l'on s'expose alors \u00e0 la mal\u00e9diction de la dimension etc ...\n",
      "\n",
      "Il convient donc de r\u00e9duire la dimension en **projettant l'EEG dans un espace de caract\u00e9ristiques (features) bien choisi.** Il s'agit l\u00e0 de la **grande difficult\u00e9 du probl\u00e8me : trouver un espace de features dans lequel repr\u00e9senter la s\u00e9rie temporelle qu'est l'EEG.**\n",
      "\n",
      "Ce rapport retrace l'\u00e9volution de la construction de mon classifieur d'EEG. Dans un premier temps, nous ferons une exploration des donn\u00e9es. Nous nous concentrerons ensuite sur la construction des features statistiques, nous verrons ensuite comment capturer l'aspect fr\u00e9quentiel des EEG avec la construction des features spectrales. Nous verrons apr\u00e8s l'apport des features issues des d\u00e9composition en ondelettes du signal. J'aborderais ....\n",
      "\n"
     ]
    },
    {
     "cell_type": "markdown",
     "metadata": {},
     "source": [
      "# L'exploration des donn\u00e9es\n",
      "\n",
      "Le jeu de donn\u00e9es fourni comprend 10 087 enregistrements de 30 secondes d'EEG. Chaque EEG est une s\u00e9rie de 6000 points qui enregistrent p\u00e9riodiquement la valeur de ce dernier. La fr\u00e9quence d'\u00e9chantillonnage est donc de 200Hz. Le jeu de donn\u00e9es est r\u00e9partie de mani\u00e8re in\u00e9gale entre les diff\u00e9rentes classes : \n",
      "\n",
      "La visualisation de quelques signaux de diverses classses montre que les signaux sont tr\u00e8s diff\u00e9rents suivants les classes : ils peuvent avoir une forte amplitude, ou alors varier intens\u00e9ment, ou encore \u00eatre quasiment plats et pr\u00e9senter des pics locaux ... **Le but sera de capturer ces caract\u00e9ristiques en choisissant correctement des features.**\n"
     ]
    },
    {
     "cell_type": "markdown",
     "metadata": {},
     "source": [
      "# Construction de features statistiques\n",
      "\n",
      "Avec les features statistiques, j'ai cherch\u00e9 \u00e0 capturer les **caract\u00e9ristiques d'amplitude du signal**. \n",
      "\n",
      "La liste initiale des features statistiques calcul\u00e9e sur la s\u00e9rie temporelle \u00e9tait la suivante : Variance, Maximum, "
     ]
    },
    {
     "cell_type": "code",
     "collapsed": false,
     "input": [],
     "language": "python",
     "metadata": {},
     "outputs": []
    }
   ],
   "metadata": {}
  }
 ]
}